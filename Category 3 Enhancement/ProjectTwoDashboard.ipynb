{
 "cells": [
  {
   "cell_type": "markdown",
   "id": "560447ac",
   "metadata": {},
   "source": []
  },
  {
   "cell_type": "code",
   "execution_count": 1,
   "id": "642d94d2",
   "metadata": {},
   "outputs": [
    {
     "name": "stdout",
     "output_type": "stream",
     "text": [
      "Defaulting to user installation because normal site-packages is not writeable\n",
      "Requirement already satisfied: jupyter-dash in /usr/local/anaconda/lib/python3.9/site-packages (0.4.2)\n",
      "Requirement already satisfied: ipykernel in /usr/local/anaconda/lib/python3.9/site-packages (from jupyter-dash) (6.9.1)\n",
      "Requirement already satisfied: ansi2html in /usr/local/anaconda/lib/python3.9/site-packages (from jupyter-dash) (1.5.2)\n",
      "Requirement already satisfied: ipython in /usr/local/anaconda/lib/python3.9/site-packages (from jupyter-dash) (8.2.0)\n",
      "Requirement already satisfied: flask in /usr/local/anaconda/lib/python3.9/site-packages (from jupyter-dash) (1.1.2)\n",
      "Requirement already satisfied: nest-asyncio in /usr/local/anaconda/lib/python3.9/site-packages (from jupyter-dash) (1.5.5)\n",
      "Requirement already satisfied: dash in /usr/local/anaconda/lib/python3.9/site-packages (from jupyter-dash) (2.8.1)\n",
      "Requirement already satisfied: retrying in /usr/local/anaconda/lib/python3.9/site-packages (from jupyter-dash) (1.3.3)\n",
      "Requirement already satisfied: requests in /usr/local/anaconda/lib/python3.9/site-packages (from jupyter-dash) (2.27.1)\n",
      "Requirement already satisfied: six in /usr/local/anaconda/lib/python3.9/site-packages (from ansi2html->jupyter-dash) (1.16.0)\n",
      "Requirement already satisfied: dash-html-components==2.0.0 in /home/kenyhactabusb_snhu/.local/lib/python3.9/site-packages (from dash->jupyter-dash) (2.0.0)\n",
      "Requirement already satisfied: dash-table==5.0.0 in /home/kenyhactabusb_snhu/.local/lib/python3.9/site-packages (from dash->jupyter-dash) (5.0.0)\n",
      "Requirement already satisfied: dash-core-components==2.0.0 in /home/kenyhactabusb_snhu/.local/lib/python3.9/site-packages (from dash->jupyter-dash) (2.0.0)\n",
      "Requirement already satisfied: plotly>=5.0.0 in /usr/local/anaconda/lib/python3.9/site-packages (from dash->jupyter-dash) (5.6.0)\n",
      "Requirement already satisfied: click>=5.1 in /usr/local/anaconda/lib/python3.9/site-packages (from flask->jupyter-dash) (8.0.4)\n",
      "Requirement already satisfied: Werkzeug>=0.15 in /usr/local/anaconda/lib/python3.9/site-packages (from flask->jupyter-dash) (2.0.3)\n",
      "Requirement already satisfied: Jinja2>=2.10.1 in /usr/local/anaconda/lib/python3.9/site-packages (from flask->jupyter-dash) (2.11.3)\n",
      "Requirement already satisfied: itsdangerous>=0.24 in /usr/local/anaconda/lib/python3.9/site-packages (from flask->jupyter-dash) (2.0.1)\n",
      "Requirement already satisfied: MarkupSafe>=0.23 in /usr/local/anaconda/lib/python3.9/site-packages (from Jinja2>=2.10.1->flask->jupyter-dash) (2.0.1)\n",
      "Requirement already satisfied: tenacity>=6.2.0 in /usr/local/anaconda/lib/python3.9/site-packages (from plotly>=5.0.0->dash->jupyter-dash) (8.0.1)\n",
      "Requirement already satisfied: matplotlib-inline<0.2.0,>=0.1.0 in /usr/local/anaconda/lib/python3.9/site-packages (from ipykernel->jupyter-dash) (0.1.2)\n",
      "Requirement already satisfied: traitlets<6.0,>=5.1.0 in /usr/local/anaconda/lib/python3.9/site-packages (from ipykernel->jupyter-dash) (5.1.1)\n",
      "Requirement already satisfied: tornado<7.0,>=4.2 in /usr/local/anaconda/lib/python3.9/site-packages (from ipykernel->jupyter-dash) (6.1)\n",
      "Requirement already satisfied: debugpy<2.0,>=1.0.0 in /usr/local/anaconda/lib/python3.9/site-packages (from ipykernel->jupyter-dash) (1.5.1)\n",
      "Requirement already satisfied: jupyter-client<8.0 in /usr/local/anaconda/lib/python3.9/site-packages (from ipykernel->jupyter-dash) (6.1.12)\n",
      "Requirement already satisfied: setuptools>=18.5 in /usr/local/anaconda/lib/python3.9/site-packages (from ipython->jupyter-dash) (61.2.0)\n",
      "Requirement already satisfied: jedi>=0.16 in /usr/local/anaconda/lib/python3.9/site-packages (from ipython->jupyter-dash) (0.18.1)\n",
      "Requirement already satisfied: decorator in /usr/local/anaconda/lib/python3.9/site-packages (from ipython->jupyter-dash) (5.1.1)\n",
      "Requirement already satisfied: pickleshare in /usr/local/anaconda/lib/python3.9/site-packages (from ipython->jupyter-dash) (0.7.5)\n",
      "Requirement already satisfied: backcall in /usr/local/anaconda/lib/python3.9/site-packages (from ipython->jupyter-dash) (0.2.0)\n",
      "Requirement already satisfied: pexpect>4.3 in /usr/local/anaconda/lib/python3.9/site-packages (from ipython->jupyter-dash) (4.8.0)\n",
      "Requirement already satisfied: prompt-toolkit!=3.0.0,!=3.0.1,<3.1.0,>=2.0.0 in /usr/local/anaconda/lib/python3.9/site-packages (from ipython->jupyter-dash) (3.0.20)\n",
      "Requirement already satisfied: pygments>=2.4.0 in /usr/local/anaconda/lib/python3.9/site-packages (from ipython->jupyter-dash) (2.11.2)\n",
      "Requirement already satisfied: stack-data in /usr/local/anaconda/lib/python3.9/site-packages (from ipython->jupyter-dash) (0.2.0)\n",
      "Requirement already satisfied: parso<0.9.0,>=0.8.0 in /usr/local/anaconda/lib/python3.9/site-packages (from jedi>=0.16->ipython->jupyter-dash) (0.8.3)\n",
      "Requirement already satisfied: jupyter-core>=4.6.0 in /usr/local/anaconda/lib/python3.9/site-packages (from jupyter-client<8.0->ipykernel->jupyter-dash) (4.9.2)\n",
      "Requirement already satisfied: python-dateutil>=2.1 in /usr/local/anaconda/lib/python3.9/site-packages (from jupyter-client<8.0->ipykernel->jupyter-dash) (2.8.2)\n",
      "Requirement already satisfied: pyzmq>=13 in /usr/local/anaconda/lib/python3.9/site-packages (from jupyter-client<8.0->ipykernel->jupyter-dash) (22.3.0)\n",
      "Requirement already satisfied: ptyprocess>=0.5 in /usr/local/anaconda/lib/python3.9/site-packages (from pexpect>4.3->ipython->jupyter-dash) (0.7.0)\n",
      "Requirement already satisfied: wcwidth in /usr/local/anaconda/lib/python3.9/site-packages (from prompt-toolkit!=3.0.0,!=3.0.1,<3.1.0,>=2.0.0->ipython->jupyter-dash) (0.2.5)\n",
      "Requirement already satisfied: idna<4,>=2.5 in /usr/local/anaconda/lib/python3.9/site-packages (from requests->jupyter-dash) (3.3)\n",
      "Requirement already satisfied: urllib3<1.27,>=1.21.1 in /usr/local/anaconda/lib/python3.9/site-packages (from requests->jupyter-dash) (1.26.9)\n",
      "Requirement already satisfied: certifi>=2017.4.17 in /usr/local/anaconda/lib/python3.9/site-packages (from requests->jupyter-dash) (2021.10.8)\n",
      "Requirement already satisfied: charset-normalizer~=2.0.0 in /usr/local/anaconda/lib/python3.9/site-packages (from requests->jupyter-dash) (2.0.4)\n",
      "Requirement already satisfied: executing in /usr/local/anaconda/lib/python3.9/site-packages (from stack-data->ipython->jupyter-dash) (0.8.3)\n",
      "Requirement already satisfied: asttokens in /usr/local/anaconda/lib/python3.9/site-packages (from stack-data->ipython->jupyter-dash) (2.0.5)\n",
      "Requirement already satisfied: pure-eval in /usr/local/anaconda/lib/python3.9/site-packages (from stack-data->ipython->jupyter-dash) (0.2.2)\n"
     ]
    }
   ],
   "source": [
    "!pip install jupyter-dash\n"
   ]
  },
  {
   "cell_type": "code",
   "execution_count": 2,
   "id": "a6a1ec3c",
   "metadata": {},
   "outputs": [],
   "source": [
    "# Setup the Jupyter version of Dash\n",
    "from jupyter_dash import JupyterDash\n",
    "app = JupyterDash('SimpleExample')"
   ]
  },
  {
   "cell_type": "code",
   "execution_count": 3,
   "id": "a7a08c46",
   "metadata": {},
   "outputs": [
    {
     "name": "stderr",
     "output_type": "stream",
     "text": [
      "ERROR:root:No traceback has been produced, nothing to debug.\n"
     ]
    }
   ],
   "source": [
    "%debug\n"
   ]
  },
  {
   "cell_type": "code",
   "execution_count": 4,
   "id": "d5cc5d4e",
   "metadata": {},
   "outputs": [],
   "source": [
    "# Configure the necessary Python module imports for dashboard components\n",
    "import dash_leaflet as dl\n",
    "from dash import dcc\n",
    "from dash import html\n",
    "import plotly.express as px\n",
    "from dash import dash_table\n",
    "from dash.dependencies import Input, Output, State\n",
    "import base64\n",
    "\n",
    "# Configure OS routines\n",
    "import os\n",
    "\n",
    "# Configure the plotting routines\n",
    "import numpy as np\n",
    "import pandas as pd\n",
    "import matplotlib.pyplot as pl"
   ]
  },
  {
   "cell_type": "code",
   "execution_count": 5,
   "id": "89c52229",
   "metadata": {},
   "outputs": [
    {
     "name": "stderr",
     "output_type": "stream",
     "text": [
      "ERROR:root:No traceback has been produced, nothing to debug.\n"
     ]
    }
   ],
   "source": [
    "%debug\n"
   ]
  },
  {
   "cell_type": "code",
   "execution_count": 6,
   "id": "93c0b631",
   "metadata": {},
   "outputs": [
    {
     "name": "stdout",
     "output_type": "stream",
     "text": [
      "Connection Successful\n",
      "Connection Successful\n"
     ]
    }
   ],
   "source": [
    "#### FIX ME #####\n",
    "# change animal_shelter and AnimalShelter to match your CRUD Python module file name and class name\n",
    "from animalShelter import AnimalShelter\n",
    "\n",
    "###########################\n",
    "# Data Manipulation / Model\n",
    "###########################\n",
    "# FIX ME update with your username and password and CRUD Python module name\n",
    "\n",
    "USER = 'aacuser'\n",
    "PASS = 'SNHU1234'\n",
    "shelter = AnimalShelter('aacuser', 'SNHU1234')\n",
    "HOST = 'nv-desktop-services.apporto.com'\n",
    "PORT = 30303\n",
    "DB = 'aac'\n",
    "COL = 'animals'          \n",
    "\n",
    "\n",
    "# Connect to database via CRUD Module\n",
    "shelter = AnimalShelter(USER=\"aacuser\", PASS=\"SNHU1234\")\n",
    "\n",
    "# class read method must support return of list object and accept projection json input\n",
    "# sending the read method an empty document requests all documents be returned\n",
    "df = pd.DataFrame.from_records(shelter.read({}))\n",
    "\n",
    "# MongoDB v5+ is going to return the '_id' column and that is going to have an \n",
    "# invlaid object type of 'ObjectID' - which will cause the data_table to crash - so we remove\n",
    "# it in the dataframe here. The df.drop command allows us to drop the column. If we do not set\n",
    "# inplace=True - it will reeturn a new dataframe that does not contain the dropped column(s)\n",
    "df.drop(columns=['_id'],inplace=True)\n",
    "\n",
    "## Debug\n",
    "# print(len(df.to_dict(orient='records')))\n",
    "# print(df.columns"
   ]
  },
  {
   "cell_type": "code",
   "execution_count": 7,
   "id": "da982539",
   "metadata": {},
   "outputs": [
    {
     "name": "stderr",
     "output_type": "stream",
     "text": [
      "ERROR:root:No traceback has been produced, nothing to debug.\n"
     ]
    }
   ],
   "source": [
    "%debug\n"
   ]
  },
  {
   "cell_type": "code",
   "execution_count": 8,
   "id": "5bb86f3d",
   "metadata": {
    "scrolled": true
   },
   "outputs": [],
   "source": [
    "#########################\n",
    "# Dashboard Layout / View\n",
    "#########################\n",
    "\n",
    "app = JupyterDash('Grazioso')\n",
    "\n",
    "#FIX ME Add in Grazioso Salvare’s logo\n",
    "image_filename = 'GraziosoSalvareLogo.png' # replace with your own image\n",
    "encoded_image = base64.b64encode(open(image_filename, 'rb').read())\n",
    "\n",
    "#FIX ME Place the HTML image tag in the line below into the app.layout code according to your design\n",
    "#FIX ME Also remember to include a unique identifier such as your name or date\n",
    "#html.Img(src='data:image/png;base64,{}'.format(encoded_image.decode()))\n",
    "\n",
    "app.layout = html.Div([\n",
    "    html.Div(\n",
    "        children=[\n",
    "            html.Img(\n",
    "                src='data:image/png;base64,{}'.format(encoded_image.decode()),\n",
    "                style={'height': '100px', 'width': 'auto', 'margin': '10px'}\n",
    "            ),\n",
    "            html.Div(\n",
    "                children=[\n",
    "                    html.H2(\"Developed by Kenyhacta Busby\", style={'color': 'blue', 'fontSize': 22}),\n",
    "                    html.P(\"Date: 2024-04-24\", style={'color': 'blue', 'fontSize': 18})\n",
    "                ],\n",
    "                style={'textAlign': 'right', 'width': '100%'}\n",
    "            )\n",
    "        ],\n",
    "        style={'display': 'flex', 'justifyContent': 'space-between', 'alignItems': 'center', 'padding': '10px'}\n",
    "    ),\n",
    "    html.Center(html.B(html.H1('CS-340 Dashboard'))),\n",
    "    html.Hr(),\n",
    "    html.Div([\n",
    "        dcc.Checklist(\n",
    "            id='filter-type',\n",
    "            options=[\n",
    "                {'label': 'Water Rescue', 'value': 'WR'},\n",
    "                {'label': 'Mountain or Wilderness Rescue', 'value': 'MWR'},\n",
    "                {'label': 'Disaster or Individual Tracking', 'value': 'DIT'}\n",
    "            ],\n",
    "            value=[],\n",
    "            labelStyle={'display': 'inline-block'},\n",
    "            style={'textAlign': 'center'}\n",
    "        \n",
    "        ),\n",
    "        html.Button('Reset', id='reset-button', n_clicks=0, style={'margin': '10px'})\n",
    "    ]),\n",
    "    html.Hr(),\n",
    "    dash_table.DataTable(\n",
    "        id='datatable-id',\n",
    "        columns=[{\"name\": i, \"id\": i, \"deletable\": False, \"selectable\": True} for i in df.columns],\n",
    "        data=df.to_dict('records'),\n",
    "        editable=False,\n",
    "        filter_action=\"native\",\n",
    "        sort_action=\"native\",\n",
    "        sort_mode=\"multi\",\n",
    "        column_selectable=\"single\",\n",
    "        row_selectable=\"single\",\n",
    "        page_action=\"native\",\n",
    "        page_current=0,\n",
    "        page_size=10,\n",
    "        selected_rows=[0],\n",
    "    ),\n",
    "    html.Br(),\n",
    "    html.Hr(),\n",
    "    html.Div(className='row', style={'display': 'flex'}, children=[\n",
    "        html.Div(id='graph-id', className='col s12 m6'),\n",
    "        html.Div(id='map-id', className='col s12 m6')\n",
    "    ])\n",
    "])\n",
    "\n",
    "\n"
   ]
  },
  {
   "cell_type": "code",
   "execution_count": 9,
   "id": "97a41b4c",
   "metadata": {},
   "outputs": [
    {
     "name": "stderr",
     "output_type": "stream",
     "text": [
      "ERROR:root:No traceback has been produced, nothing to debug.\n"
     ]
    }
   ],
   "source": [
    "%debug\n"
   ]
  },
  {
   "cell_type": "code",
   "execution_count": 10,
   "id": "e76fc56c",
   "metadata": {},
   "outputs": [],
   "source": [
    "@app.callback([Output('datatable-id','data'),\n",
    "               Output('datatable-id','columns')],\n",
    "              [Input('filter-type', 'value')])\n",
    "def update_dashboard(filter_type):\n",
    "### FIX ME Add code to filter interactive data table with MongoDB queries\n",
    "        #adjusts the read request for the desired dog type and status\n",
    "    \n",
    "    \n",
    "    \n",
    "        if filter_type == 'WR':\n",
    "            \n",
    "            df = pd.DataFrame(list(shelter.read({'$and': [{'sex_upon_outcome': 'Intact Female'},\n",
    "                                                          {'$or': [\n",
    "                                                              {'breed': 'Labrador Retriever Mix'},\n",
    "                                                              {'breed': 'Chesa Bay Retr Mix'},\n",
    "                                                              {'breed': 'Newfoundland Mix'},\n",
    "                                                             ]\n",
    "                                                          },\n",
    "                                                          {'$and': [{'age_upon_outcome_in_weeks': {'$gte': 26}},\n",
    "                                                                    {'age_upon_outcome_in_weeks': {'$lte': 156}}]\n",
    "                                                          }]\n",
    "                                                })))\n",
    "     \n",
    "        elif filter_type == 'MWR':\n",
    "            # breeds and ages determined by Grazioso\n",
    "            df = pd.DataFrame(list(shelter.read({'$and': [{'sex_upon_outcome': 'Intact Male'},\n",
    "                                                          {'$or': [\n",
    "                                                              {'breed': 'German Shepherd'},\n",
    "                                                              {'breed': 'Alaskan Malamute'},\n",
    "                                                              {'breed': 'Old English Sheepdog'},\n",
    "                                                              {'breed': 'Rottweiler'},\n",
    "                                                              {'breed': 'Siberian Husky'}]\n",
    "                                                          },\n",
    "                                                          {'$and': [{'age_upon_outcome_in_weeks': {'$gte': 26}},\n",
    "                                                                    {'age_upon_outcome_in_weeks': {'$lte': 156}}]\n",
    "                                                          }]\n",
    "                                                })))\n",
    "        #adjusts the read request for the desired dog type and status\n",
    "        elif filter_type == 'DRIT':\n",
    "           \n",
    "            df = pd.DataFrame(list(shelter.read({'$and': [{'sex_upon_outcome': 'Intact Male'},\n",
    "                                                          {'$or': [\n",
    "                                                              {'breed': 'Doberman Pinscher'},\n",
    "                                                              {'breed': 'German Shepherd'},\n",
    "                                                              {'breed': 'Golden Retriever'},\n",
    "                                                              {'breed': 'Bloodhound'},\n",
    "                                                              {'breed': 'Rottweiler'}]\n",
    "                                                          },\n",
    "                                                          {'$and': [{'age_upon_outcome_in_weeks': {'$gte': 20}},\n",
    "                                                                    {'age_upon_outcome_in_weeks': {'$lte': 300}}]\n",
    "                                                          }]\n",
    "                                                })))\n",
    "        #resets the search to nothing to allow all results to be displayed\n",
    "        else:\n",
    "            df = pd.DataFrame.from_records(shelter.read({}))\n",
    "\n",
    "        \n",
    "        columns=[{\"name\": i, \"id\": i, \"deletable\": False, \"selectable\": True} for i in df.columns]\n",
    "        data=df.to_dict('records')\n",
    "        columns = [{\"name\": i, \"id\": i} for i in df.columns]\n",
    "        \n",
    "        return (data,columns)\n",
    "\n",
    "\n",
    "@app.callback(\n",
    "    Output('datatable-id', 'style_data_conditional'),\n",
    "    [Input('datatable-id', 'selected_columns')]\n",
    ")\n",
    "def update_styles(selected_columns):\n",
    "    return [{\n",
    "        'if': { 'column_id': i },\n",
    "        'background_color': '#D2F3FF'\n",
    "    } for i in selected_columns]\n",
    "\n",
    "#function to update the pie chart\n",
    "@app.callback(\n",
    "    Output('graph-id', \"children\"),\n",
    "    [Input('datatable-id', \"derived_viewport_data\")])\n",
    "def update_graphs(viewData):\n",
    "    ###FIX ME ####\n",
    "    # imports the currently displayed data\n",
    "    if viewData is not None and len(viewData) > 0:\n",
    "        dff = pd.DataFrame.from_dict(viewData)\n",
    "\n",
    "        # Check if the 'breed' column is present in the DataFrame\n",
    "        if 'breed' in dff.columns:\n",
    "            # Create the values needed for the names (breed) and values (recurring counts)\n",
    "            names = dff['breed'].value_counts().keys().tolist()\n",
    "            values = dff['breed'].value_counts().tolist()\n",
    "\n",
    "            # Create a pie chart based on the data above\n",
    "            return [\n",
    "                dcc.Graph(\n",
    "                    figure=px.pie(\n",
    "                        data_frame=dff, \n",
    "                        values=values, \n",
    "                        names=names, \n",
    "                        color_discrete_sequence=px.colors.sequential.RdBu,\n",
    "                        width=800, \n",
    "                        height=500   \n",
    "                    )\n",
    "                )\n",
    "            ]\n",
    "        else:\n",
    "            # If 'breed' column is missing, perhaps return an empty graph or a message\n",
    "            return [html.P(\"No 'breed' data available to display the pie chart.\")]\n",
    "    else:\n",
    "        # If viewData is None or empty, also return an empty graph or a message\n",
    "        return [html.P(\"No data available.\")]\n",
    "\n",
    "@app.callback(\n",
    "    Output('map-id', \"children\"),\n",
    "    [Input('datatable-id', \"derived_viewport_data\"),\n",
    "     Input('datatable-id', 'selected_rows'),\n",
    "     Input('datatable-id', 'selected_columns')])\n",
    "def update_map(viewData, selected_rows, selected_columns):\n",
    "#FIXME: Add in the code for your geolocation chart\n",
    "#If you completed the Module Six Assignment, you can copy in the code you created here.\n",
    "    # imports the currently viewed data\n",
    "    if not viewData or not selected_rows:\n",
    "        # No data or no row is selected, return a default map\n",
    "        return dl.Map(style={'width': '1000px', 'height': '500px'}, center=[30.75, -97.48], zoom=10, children=[\n",
    "            dl.TileLayer()\n",
    "        ])\n",
    "\n",
    "    # Convert viewData into a DataFrame\n",
    "    dff = pd.DataFrame(viewData)\n",
    "\n",
    "    # Extract the row for the selected marker\n",
    "    selected_row_index = selected_rows[0]\n",
    "    selected_data = dff.iloc[selected_row_index]\n",
    "\n",
    "    # Check if latitude and longitude data exists\n",
    "    if 'latitude' in selected_data and 'longitude' in selected_data:\n",
    "        latitude = selected_data['latitude']\n",
    "        longitude = selected_data['longitude']\n",
    "        if pd.notna(latitude) and pd.notna(longitude):\n",
    "            # Create the map with the marker\n",
    "            return dl.Map(style={'width': '1000px', 'height': '500px'}, center=[latitude, longitude], zoom=10, children=[\n",
    "                dl.TileLayer(),\n",
    "                dl.Marker(position=[latitude, longitude], children=[\n",
    "                    dl.Tooltip(selected_data['breed']),\n",
    "                    dl.Popup([\n",
    "                        html.H1(\"Animal Name: {}\".format(selected_data['name'])),\n",
    "                        html.P(\"Breed: {}\".format(selected_data['breed']))\n",
    "                    ])\n",
    "                ])\n",
    "            ])\n",
    "    \n",
    "    # Default map if coordinates are not available\n",
    "    return dl.Map(style={'width': '1000px', 'height': '500px'}, center=[30.75, -97.48], zoom=10, children=[\n",
    "        dl.TileLayer()\n",
    "    ])\n",
    "\n",
    "    \n"
   ]
  },
  {
   "cell_type": "code",
   "execution_count": 11,
   "id": "35d936bd",
   "metadata": {},
   "outputs": [
    {
     "name": "stdout",
     "output_type": "stream",
     "text": [
      "Dash app running on http://127.0.0.1:17928/\n"
     ]
    }
   ],
   "source": [
    "app.run_server(debug=True)"
   ]
  },
  {
   "cell_type": "code",
   "execution_count": 1,
   "id": "2e148768",
   "metadata": {},
   "outputs": [
    {
     "name": "stderr",
     "output_type": "stream",
     "text": [
      "ERROR:root:No traceback has been produced, nothing to debug.\n"
     ]
    }
   ],
   "source": []
  },
  {
   "cell_type": "code",
   "execution_count": null,
   "id": "040929a4",
   "metadata": {},
   "outputs": [],
   "source": []
  }
 ],
 "metadata": {
  "kernelspec": {
   "display_name": "Python 3 (ipykernel)",
   "language": "python",
   "name": "python3"
  },
  "language_info": {
   "codemirror_mode": {
    "name": "ipython",
    "version": 3
   },
   "file_extension": ".py",
   "mimetype": "text/x-python",
   "name": "python",
   "nbconvert_exporter": "python",
   "pygments_lexer": "ipython3",
   "version": "3.9.12"
  }
 },
 "nbformat": 4,
 "nbformat_minor": 5
}
